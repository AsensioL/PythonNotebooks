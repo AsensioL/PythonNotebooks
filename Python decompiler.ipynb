{
 "cells": [
  {
   "cell_type": "code",
   "execution_count": 6,
   "metadata": {},
   "outputs": [],
   "source": [
    "import dis"
   ]
  },
  {
   "cell_type": "markdown",
   "metadata": {},
   "source": [
    "Piece of code to decompile"
   ]
  },
  {
   "cell_type": "code",
   "execution_count": 105,
   "metadata": {},
   "outputs": [],
   "source": [
    "c = compile('''\n",
    "x = 1\n",
    "if x < 2:\n",
    "    print(x)\n",
    "''','','exec')"
   ]
  },
  {
   "cell_type": "markdown",
   "metadata": {},
   "source": [
    "Decimal and Hex of the bytecode"
   ]
  },
  {
   "cell_type": "code",
   "execution_count": 103,
   "metadata": {},
   "outputs": [
    {
     "data": {
      "text/plain": [
       "'100 0 90 0 101 0 100 1 107 0 114 20 101 1 101 0 131 1 1 0 100 2 83 0'"
      ]
     },
     "execution_count": 103,
     "metadata": {},
     "output_type": "execute_result"
    }
   ],
   "source": [
    "' '.join([str(int(x)) for x in c.co_code])"
   ]
  },
  {
   "cell_type": "code",
   "execution_count": 104,
   "metadata": {
    "scrolled": true
   },
   "outputs": [
    {
     "data": {
      "text/plain": [
       "'0x64 0x0 0x5a 0x0 0x65 0x0 0x64 0x1 0x6b 0x0 0x72 0x14 0x65 0x1 0x65 0x0 0x83 0x1 0x1 0x0 0x64 0x2 0x53 0x0'"
      ]
     },
     "execution_count": 104,
     "metadata": {},
     "output_type": "execute_result"
    }
   ],
   "source": [
    "' '.join([str(hex(x)) for x in c.co_code])"
   ]
  },
  {
   "cell_type": "markdown",
   "metadata": {},
   "source": [
    "A couple helper functions"
   ]
  },
  {
   "cell_type": "code",
   "execution_count": 16,
   "metadata": {},
   "outputs": [],
   "source": [
    "def group(lst, n):\n",
    "    ''' Return an n-element touple generator from a list '''\n",
    "    for i in range(0, len(lst), n):\n",
    "        val = lst[i:i+n]\n",
    "        if len(val) == n:\n",
    "            yield tuple(val)"
   ]
  },
  {
   "cell_type": "code",
   "execution_count": 57,
   "metadata": {},
   "outputs": [],
   "source": [
    "def group_with_idx(lst, n):\n",
    "    ''' Return an n+n-element (element + indexes) touple generator from a list '''\n",
    "    for i in range(0, len(lst), n):\n",
    "        val = list(lst[i:i+n])\n",
    "        if len(val) == n:\n",
    "            yield tuple(val+[x for x in range(i,i+n)])"
   ]
  },
  {
   "cell_type": "markdown",
   "metadata": {},
   "source": [
    "Tests of the above functions"
   ]
  },
  {
   "cell_type": "code",
   "execution_count": 58,
   "metadata": {
    "scrolled": false
   },
   "outputs": [
    {
     "data": {
      "text/plain": [
       "[(1, 2), (3, 4), (5, 6)]"
      ]
     },
     "execution_count": 58,
     "metadata": {},
     "output_type": "execute_result"
    }
   ],
   "source": [
    "[x for x in group([1,2,3,4,5,6],2)]"
   ]
  },
  {
   "cell_type": "code",
   "execution_count": 106,
   "metadata": {},
   "outputs": [
    {
     "data": {
      "text/plain": [
       "[(1, 2, 0, 1), (3, 4, 2, 3), (5, 6, 4, 5)]"
      ]
     },
     "execution_count": 106,
     "metadata": {},
     "output_type": "execute_result"
    }
   ],
   "source": [
    "[x for x in group_with_idx([1,2,3,4,5,6],2)]"
   ]
  },
  {
   "cell_type": "markdown",
   "metadata": {},
   "source": [
    "### Testing the Disassembly library"
   ]
  },
  {
   "cell_type": "code",
   "execution_count": 116,
   "metadata": {
    "scrolled": true
   },
   "outputs": [
    {
     "name": "stdout",
     "output_type": "stream",
     "text": [
      "Bytecode\n",
      "COMPILER_FLAG_NAMES\n",
      "EXTENDED_ARG\n",
      "FORMAT_VALUE\n",
      "HAVE_ARGUMENT\n",
      "Instruction\n",
      "cmp_op\n",
      "code_info\n",
      "collections\n",
      "dis\n",
      "disassemble\n",
      "disco\n",
      "distb\n",
      "findlabels\n",
      "findlinestarts\n",
      "get_instructions\n",
      "hascompare\n",
      "hasconst\n",
      "hasfree\n",
      "hasjabs\n",
      "hasjrel\n",
      "haslocal\n",
      "hasname\n",
      "hasnargs\n",
      "io\n",
      "opmap\n",
      "opname\n",
      "pretty_flags\n",
      "show_code\n",
      "stack_effect\n",
      "sys\n",
      "types\n"
     ]
    }
   ],
   "source": [
    "# Check what is in the disassembly library\n",
    "print('\\n'.join([x for x in dir(dis) if x[0] != '_']))"
   ]
  },
  {
   "cell_type": "code",
   "execution_count": 107,
   "metadata": {},
   "outputs": [
    {
     "data": {
      "text/plain": [
       "90"
      ]
     },
     "execution_count": 107,
     "metadata": {},
     "output_type": "execute_result"
    }
   ],
   "source": [
    "# Only Op Codes >= dis.HAVE_ARGUMENT have Op Arguments\n",
    "dis.HAVE_ARGUMENT"
   ]
  },
  {
   "cell_type": "code",
   "execution_count": 115,
   "metadata": {},
   "outputs": [
    {
     "data": {
      "text/plain": [
       "119"
      ]
     },
     "execution_count": 115,
     "metadata": {},
     "output_type": "execute_result"
    }
   ],
   "source": [
    "# How many Op Codes are defined\n",
    "len([x for x in dis.opname if \"<\" not in x])"
   ]
  },
  {
   "cell_type": "code",
   "execution_count": 117,
   "metadata": {},
   "outputs": [
    {
     "data": {
      "text/plain": [
       "119"
      ]
     },
     "execution_count": 117,
     "metadata": {},
     "output_type": "execute_result"
    }
   ],
   "source": [
    "# How many Op Codes are defined\n",
    "len([x for x in dis.opname if \"<\" not in x])"
   ]
  },
  {
   "cell_type": "code",
   "execution_count": 118,
   "metadata": {},
   "outputs": [
    {
     "data": {
      "text/plain": [
       "28"
      ]
     },
     "execution_count": 118,
     "metadata": {},
     "output_type": "execute_result"
    }
   ],
   "source": [
    "# Longest Op Code name\n",
    "max([len(x) for x in dis.opname if \"<\" not in x])"
   ]
  },
  {
   "cell_type": "markdown",
   "metadata": {},
   "source": [
    "## Main piece of code"
   ]
  },
  {
   "cell_type": "code",
   "execution_count": 125,
   "metadata": {},
   "outputs": [
    {
     "name": "stdout",
     "output_type": "stream",
     "text": [
      "[ 0] LOAD_CONST        (100)   0 (const:1)\n",
      "[ 2] STORE_NAME        ( 90)   0 (name:x)\n",
      "[ 4] LOAD_NAME         (101)   0 (name:x)\n",
      "[ 6] LOAD_CONST        (100)   1 (const:2)\n",
      "[ 8] COMPARE_OP        (107)   0 (compare:<)\n",
      "[10] POP_JUMP_IF_FALSE (114)  20 (abs jump: to 20)\n",
      "[12] LOAD_NAME         (101)   1 (name:print)\n",
      "[14] LOAD_NAME         (101)   0 (name:x)\n",
      "[16] CALL_FUNCTION     (131)   1 \n",
      "[18] POP_TOP           (  1)  \n",
      "[20] LOAD_CONST        (100)   2 (const:None)\n",
      "[22] RETURN_VALUE      ( 83)  \n"
     ]
    }
   ],
   "source": [
    "longest_opcode_name = max([len(dis.opname[op_code]) for op_code, _ in group(c.co_code,2)])\n",
    "\n",
    "for op_code, op_arg, op_code_idx, op_arg_idx in group_with_idx(c.co_code,2):\n",
    "    # Op Code\n",
    "    op_code_idx_txt = f'[{op_code_idx:2d}]'\n",
    "    op_code_txt     = f'{dis.opname[op_code]:{longest_opcode_name}s} ({op_code:3d})'\n",
    "    \n",
    "    # If the Op Code does not care about Op Argument, do not print anything else, otherwise print help\n",
    "    op_arg_txt      =  ''\n",
    "    op_arg_name     =  ''\n",
    "    if op_code >= dis.HAVE_ARGUMENT:\n",
    "        op_arg_txt  = f'{op_arg:3}'\n",
    "        \n",
    "        # Explanation of the arguments\n",
    "        if op_code in dis.hasconst:\n",
    "            op_arg_name = f'(const:{c.co_consts[op_arg]})'\n",
    "        elif op_code in dis.hasname:\n",
    "            op_arg_name = f'(name:{c.co_names[op_arg]})'\n",
    "        elif op_code in dis.haslocal:\n",
    "            op_arg_name = f'(local:{c.co_varnames[op_arg]})'\n",
    "        elif op_code in dis.hasfree:\n",
    "            op_arg_name = f'(free:{(c.co_cellvars+c.co_freevars)[op_arg]})'\n",
    "        elif op_code in dis.hascompare:\n",
    "            op_arg_name = f'(compare:{dis.cmp_op[op_arg]})'\n",
    "        elif op_code in dis.hasjrel:\n",
    "            op_arg_name = f'(rel jump: to {op_code_idx + 2 + op_arg})'\n",
    "        elif op_code in dis.hasjabs:\n",
    "            op_arg_name = f'(abs jump: to {op_arg})'\n",
    "        elif op_code in dis.hasnargs:\n",
    "            op_arg_name = f'(nargs:{op_arg})'\n",
    "    \n",
    "    # Print line\n",
    "    print(op_code_idx_txt, op_code_txt,op_arg_txt,op_arg_name)"
   ]
  },
  {
   "cell_type": "markdown",
   "metadata": {},
   "source": [
    "Inspired by https://towardsdatascience.com/understanding-python-bytecode-e7edaae8734d"
   ]
  },
  {
   "cell_type": "markdown",
   "metadata": {},
   "source": [
    "---"
   ]
  }
 ],
 "metadata": {
  "kernelspec": {
   "display_name": "Python 3",
   "language": "python",
   "name": "python3"
  },
  "language_info": {
   "codemirror_mode": {
    "name": "ipython",
    "version": 3
   },
   "file_extension": ".py",
   "mimetype": "text/x-python",
   "name": "python",
   "nbconvert_exporter": "python",
   "pygments_lexer": "ipython3",
   "version": "3.7.1"
  }
 },
 "nbformat": 4,
 "nbformat_minor": 2
}
